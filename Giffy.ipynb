{
 "cells": [
  {
   "cell_type": "code",
   "execution_count": null,
   "id": "b72c60d2-dbf9-4b75-9fc2-c28d3fce0eea",
   "metadata": {},
   "outputs": [],
   "source": [
    "import cv2\n",
    "import numpy as np"
   ]
  },
  {
   "cell_type": "code",
   "execution_count": null,
   "id": "246100ad-147c-4b81-b50d-5b410f78569c",
   "metadata": {},
   "outputs": [],
   "source": [
    "canvas = np.full((500, 800, 3), (255, 255, 255), dtype=\"uint8\")\n",
    "\n",
    "\n",
    "cv2.circle(canvas, (320, 250), 80, (0, 0, 0), 3) # Head\n",
    "\n",
    "cv2.circle(canvas, (290, 230), 10, (0, 0, 0), -1)  # Left eye\n",
    "cv2.circle(canvas, (350, 230), 10, (0, 0, 0), -1)  # Right eye\n",
    "\n",
    "\n",
    "cv2.line(canvas, (290, 280), (350, 280), (0, 0, 0), 3) # Mouth \n",
    "\n",
    "# Computer\n",
    "cv2.line(canvas, (650, 400), (800, 400), (0, 0, 0), 3)  \n",
    "cv2.line(canvas, (480, 400), (600, 400), (0, 0, 0), 3)\n",
    "cv2.line(canvas, (490, 230), (480, 400), (0, 0, 0), 3)\n",
    "cv2.line(canvas, (470, 390), (480, 400), (0, 0, 0), 3)\n",
    "cv2.line(canvas, (480, 220), (470, 390), (0, 0, 0), 3)\n",
    "cv2.line(canvas, (480, 220), (490, 230), (0, 0, 0), 3)\n",
    "cv2.line(canvas, (480, 220), (800, 220), (0, 0, 0), 3)\n",
    "\n",
    "\n",
    "cv2.rectangle(canvas, (580, 260), (750, 380), (0, 0, 0), 3)  # Monitor screen\n",
    "cv2.rectangle(canvas, (600, 330), (650, 420), (0, 0, 0), 3)  # Monitor support\n",
    "\n",
    "# Cable\n",
    "cv2.line(canvas, (640, 420), (640, 460), (0, 0, 0), 3)\n",
    "cv2.line(canvas, (640, 460), (680, 460), (0, 0, 0), 3)\n",
    "\n",
    "# Base Line\n",
    "cv2.line(canvas, (0, 420), (800, 420), (0, 0, 0), 3)\n",
    "cv2.line(canvas, (279,324), (244,418), (0, 0, 0), 3)\n",
    "cv2.line(canvas, (279,324), (310,418), (0, 0, 0), 3)\n",
    "cv2.line(canvas, (378,307), (432,416), (0, 0, 0), 3)\n",
    "cv2.line(canvas, (296,328), (244,418), (0, 0, 0), 3)\n",
    "cv2.line(canvas, (296,328), (282,292), (0, 0, 0), 3)\n",
    "\n",
    "\n",
    "cv2.namedWindow(\"Giphy\",flags = cv2.WINDOW_FREERATIO)\n",
    "cv2.imshow(\"Giphy\", canvas)    \n",
    "cv2.waitKey()\n",
    "cv2.destroyAllWindows()"
   ]
  },
  {
   "cell_type": "code",
   "execution_count": null,
   "id": "9c9ba11a-8f78-4e8a-a2b6-e6dd3d566d75",
   "metadata": {},
   "outputs": [],
   "source": [
    "cv2.imwrite(r\"H:\\innomatics\\ML\\Animation Project\\giphy_frame.jpg\",canvas)"
   ]
  },
  {
   "cell_type": "code",
   "execution_count": null,
   "id": "a151f72f-1b90-4edf-9377-55d23f31a719",
   "metadata": {},
   "outputs": [],
   "source": [
    "def first_text(event,x,y,flags,param):\n",
    "    if event == 2:\n",
    "        cv2.putText(main_frame, \"MY CODE ISN'T WORKING .....\", (50, 100), cv2.FONT_HERSHEY_SIMPLEX, 1.5, (0, 0, 0), 3, cv2.LINE_AA)\n",
    "\n",
    "\n",
    "def second_text(event,x,y,flags,param):\n",
    "    if event == 2:\n",
    "        cv2.putText(main_frame, \"I DON'T KNOW WHY.....?\", (55, 100), cv2.FONT_HERSHEY_SIMPLEX, 1.5, (0, 0, 0), 3, cv2.LINE_AA)\n",
    "\n",
    "def third_text(event,x,y,flags,param):\n",
    "    if event == 2:\n",
    "        cv2.putText(main_frame, \"MY CODE IS WORKING .....\", (50, 100), cv2.FONT_HERSHEY_SIMPLEX, 1.5, (0, 0, 0), 3, cv2.LINE_AA)\n",
    "\n",
    "\n",
    "x1 = -1\n",
    "y1 = 1\n",
    "def line(event,x,y,flags,param):\n",
    "    global x1,y1\n",
    "    if event == 1:\n",
    "        x1 = x\n",
    "        y1 = y\n",
    "    if event == 4:\n",
    "         cv2.line(main_frame,(x1,y1),(x,y),(0,0,0),3)\n",
    "    \n",
    "def mouse(event,x,y,flags,param):    \n",
    "    if event == 1:\n",
    "        cv2.circle(main_frame,(x,y),5,(0,0,0),-1)\n",
    "    if event == 2:\n",
    "        cv2.circle(main_frame,(x,y),2,(0,0,0),-1)"
   ]
  },
  {
   "cell_type": "code",
   "execution_count": null,
   "id": "ab423d6e-192d-46dd-85bd-010224a709cb",
   "metadata": {},
   "outputs": [],
   "source": [
    "cv2.namedWindow(\"Giphy_Animation\", flags = cv2.WINDOW_FREERATIO)\n",
    "\n",
    "cv2.setMouseCallback(\"Giphy_Animation\",third_text)\n",
    "\n",
    "main_frame = cv2.imread(r\"H:\\innomatics\\ML\\Animation Project\\s_pics1.jpg\")\n",
    "\n",
    "c = 1\n",
    "while True:\n",
    "\n",
    "    cv2.imshow(\"Giphy_Animation\", main_frame)\n",
    "\n",
    "    if cv2.waitKey(1) & 255 == ord(\"h\"):\n",
    "        cv2.imwrite(r\"H:\\innomatics\\ML\\Animation Project\\s_pics{}.jpg\".format(c),main_frame)\n",
    "        print(\"image has been saved\")\n",
    "        c = c + 1\n",
    "\n",
    "    if cv2.waitKey(30) & 255 == ord(\"s\"):\n",
    "        break\n",
    "\n",
    "cv2.destroyAllWindows()"
   ]
  },
  {
   "cell_type": "markdown",
   "id": "259ea92a-1b68-46a5-87b3-2b0456987601",
   "metadata": {},
   "source": [
    "# Creating Gif Video"
   ]
  },
  {
   "cell_type": "code",
   "execution_count": null,
   "id": "f38cdd9a-598f-4d50-9377-a2570d37d89f",
   "metadata": {},
   "outputs": [],
   "source": [
    "frame1 = cv2.imread(r\"H:\\innomatics\\ML\\Animation Project\\gif\\1.jpg\")\n",
    "frame2 = cv2.imread(r\"H:\\innomatics\\ML\\Animation Project\\gif\\2.jpg\")\n",
    "frame3 = cv2.imread(r\"H:\\innomatics\\ML\\Animation Project\\gif\\3.jpg\")"
   ]
  },
  {
   "cell_type": "code",
   "execution_count": null,
   "id": "1dfe6a63-2d85-4f33-b191-b5bdb20a7b7a",
   "metadata": {},
   "outputs": [],
   "source": [
    "frames = [frame1, frame2, frame3]\n",
    "\n",
    "cv2.namedWindow(\"Giphy_Animation\", flags=cv2.WINDOW_FREERATIO)\n",
    "\n",
    "\n",
    "while True:\n",
    "    for frame in frames:\n",
    "        cv2.imshow(\"Giphy_Animation\", frame)\n",
    "        key = cv2.waitKey(500)  # 100 ms delay between frames (adjust as needed)\n",
    "        if key == ord(\"s\"):  # Press 's' to stop the animation\n",
    "            break\n",
    "    else:\n",
    "        continue\n",
    "    break\n",
    "\n",
    "cv2.destroyAllWindows()"
   ]
  },
  {
   "cell_type": "code",
   "execution_count": null,
   "id": "be4d8d76-a877-4a5f-9caa-d090e4fb3887",
   "metadata": {},
   "outputs": [],
   "source": []
  }
 ],
 "metadata": {
  "kernelspec": {
   "display_name": "Python 3 (ipykernel)",
   "language": "python",
   "name": "python3"
  },
  "language_info": {
   "codemirror_mode": {
    "name": "ipython",
    "version": 3
   },
   "file_extension": ".py",
   "mimetype": "text/x-python",
   "name": "python",
   "nbconvert_exporter": "python",
   "pygments_lexer": "ipython3",
   "version": "3.12.7"
  }
 },
 "nbformat": 4,
 "nbformat_minor": 5
}
