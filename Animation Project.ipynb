{
 "cells": [
  {
   "cell_type": "code",
   "execution_count": 1,
   "id": "89aeb16b-dcc8-4368-a2c0-974733573920",
   "metadata": {},
   "outputs": [],
   "source": [
    "import os\n",
    "import cv2\n",
    "import numpy as np\n",
    "import pandas as pd"
   ]
  },
  {
   "cell_type": "markdown",
   "id": "e424f8b8-5a81-4d1c-bd0d-cf3551e4d236",
   "metadata": {},
   "source": [
    "### Creating Canvas "
   ]
  },
  {
   "cell_type": "code",
   "execution_count": 3,
   "id": "89aff25e-90e4-4a59-9527-165441af4aba",
   "metadata": {},
   "outputs": [],
   "source": [
    "canvas = np.full((700,1000,3),(255,255,255),dtype=np.uint8)\n",
    "\n",
    "for i in range(475):  # Full height of the canvas\n",
    "    # Adjust the blue shades for sky-like effect\n",
    "    color = (255 - i // 7, 230 - i // 7, 150)  # Blue-focused gradient\n",
    "    cv2.line(canvas, (0, i), (1000, i), color, 1)\n",
    "\n",
    "cv2.rectangle(canvas, (0, 640), (1000, 700), (96,187,230), -1) #down grass\n",
    "\n",
    "cv2.rectangle(canvas, (0, 520), (1000, 640), (100, 100, 100), -1)  # road\n",
    "cv2.line(canvas, (0, 527), (1000, 527), (200, 220, 200), 1)  # Top edge line\n",
    "cv2.line(canvas, (0, 633), (1000, 633), (200, 200, 200), 1)  # Bottom edge line\n",
    "cv2.rectangle(canvas, (0, 475), (1000, 520), (96,187,230), -1)  #upgrass\n",
    "cv2.circle(canvas,(0,0),100,(74, 200, 255),-1) \n",
    "\n",
    "\n",
    "cv2.namedWindow(\"Animated_img\",flags = cv2.WINDOW_FREERATIO)\n",
    "cv2.imshow(\"Animated_img\",canvas)\n",
    "cv2.waitKey()\n",
    "cv2.destroyAllWindows()"
   ]
  },
  {
   "cell_type": "code",
   "execution_count": 5,
   "id": "42e96f38-b456-4419-b2bd-91f950b40612",
   "metadata": {},
   "outputs": [
    {
     "data": {
      "text/plain": [
       "True"
      ]
     },
     "execution_count": 5,
     "metadata": {},
     "output_type": "execute_result"
    }
   ],
   "source": [
    "cv2.imwrite(r\"H:\\innomatics\\ML\\Animation Project\\main_frame.jpg\",canvas)"
   ]
  },
  {
   "cell_type": "markdown",
   "id": "007c0580-16b3-45c2-a4cf-cf7be8388e57",
   "metadata": {},
   "source": [
    "## Creating User-defined Functions to draw lines etc.. to create different different frames"
   ]
  },
  {
   "cell_type": "code",
   "execution_count": 7,
   "id": "864f8b74-7cbb-4643-b8e9-2d1ca0583f75",
   "metadata": {},
   "outputs": [],
   "source": [
    "x1 = -1\n",
    "y1 = 1\n",
    "def cloud(event,x,y,flags,param):\n",
    "    global x1,y1\n",
    "    if event == 1:\n",
    "        x1 = x\n",
    "        y1 = y\n",
    "    if event == 4:\n",
    "         cv2.line(main_frame,(x1,y1),(x,y),(255,255,255),1)\n",
    "    if event == 2:\n",
    "        cv2.circle(main_frame,(x,y),15,(255,255,255),-1) \n",
    "\n",
    "\n",
    "x1 = -1\n",
    "y1 = 1\n",
    "def tree(event,x,y,flags,param):\n",
    "    global x1,y1\n",
    "    if event == 1:\n",
    "        x1 = x\n",
    "        y1 = y\n",
    "        \n",
    "    if event == 4:\n",
    "        cv2.rectangle(main_frame,(x1,y1),(x,y),(107,154,193),-1)\n",
    "\n",
    "    if event == 2:\n",
    "        cv2.circle(main_frame,(x,y),15,(34,139,34),-1)\n",
    "\n",
    "\n",
    "x1 = -1\n",
    "y1 = 1\n",
    "def birds_rocks(event,x,y,flags,param):\n",
    "    global x1,y1\n",
    "    if event == 1:\n",
    "        x1 = x\n",
    "        y1 = y\n",
    "    if event == 4:\n",
    "         cv2.line(main_frame,(x1,y1),(x,y),(0,0,0),1)\n",
    "    if event == 2:\n",
    "        cv2.circle(main_frame,(x,y),5,(190,190,190),-1)\n",
    "\n",
    "x1 = -1\n",
    "y1 = 1\n",
    "def bushes_roadline(event,x,y,flags,param):\n",
    "    global x1,y1\n",
    "    if event == 1:\n",
    "        x1 = x\n",
    "        y1 = y\n",
    "        \n",
    "    if event == 4:\n",
    "        cv2.line(main_frame,(x1,y1),(x,y),(255,255,255),2)\n",
    "\n",
    "    if event == 2:\n",
    "        cv2.circle(main_frame,(x,y),10,(34,139,34),-1)\n",
    "\n",
    "\n",
    "x1 = -1\n",
    "y1 = 1\n",
    "def bench(event,x,y,flags,param):\n",
    "    global x1,y1\n",
    "    if event == 1:\n",
    "        x1 = x\n",
    "        y1 = y\n",
    "        \n",
    "    if event == 4:\n",
    "        cv2.line(main_frame,(x1,y1),(x,y),(107,154,193),2)\n",
    "\n",
    "    if event == 2:\n",
    "        x1 = x\n",
    "        y1 = y\n",
    "        \n",
    "    if event == 5:\n",
    "        cv2.rectangle(main_frame,(x1,y1),(x,y),(107,154,193),-1)\n",
    "\n",
    "\n",
    "x1 = -1\n",
    "y1 = 1\n",
    "def suitcase(event,x,y,flags,param):\n",
    "    global x1,y1\n",
    "    if event == 1:\n",
    "        x1 = x\n",
    "        y1 = y\n",
    "        \n",
    "    if event == 4:\n",
    "        cv2.rectangle(main_frame,(x1,y1),(x,y),(0,0,0),-1)\n",
    "\n",
    "\n",
    "x1 = -1\n",
    "y1 = 1\n",
    "def body(event,x,y,flags,param):\n",
    "    global x1,y1\n",
    "    if event == 1:\n",
    "        x1 = x\n",
    "        y1 = y\n",
    "        \n",
    "    if event == 4:\n",
    "        cv2.rectangle(main_frame,(x1,y1),(x,y),(11,0,101),-1)\n",
    "\n",
    "\n",
    "x1 = -1\n",
    "y1 = 1\n",
    "def hands_legs(event,x,y,flags,param):\n",
    "    global x1,y1\n",
    "    if event == 1:\n",
    "        x1 = x\n",
    "        y1 = y\n",
    "        \n",
    "    if event == 4:\n",
    "        cv2.rectangle(main_frame,(x1,y1),(x,y),(190,82,42),-1)\n",
    "\n",
    "\n",
    "def face_eyes(event,x,y,flags,param):\n",
    "    if event == 1:\n",
    "        cv2.circle(main_frame,(x,y),40,(91,123,166),-1)\n",
    "\n",
    "    if event == 2:\n",
    "        cv2.circle(main_frame,(x,y),5,(0,0,0),-1)\n",
    "\n",
    "def hands_legs_circles(event,x,y,flags,param):\n",
    "    if event == 1:\n",
    "        cv2.circle(main_frame,(x,y),5,(91,123,166),-1)\n",
    "\n",
    "    if event == 2:\n",
    "        cv2.circle(main_frame,(x,y),5,(91,123,166),-1)\n",
    "\n",
    "\n",
    "x1 = -1\n",
    "y1 = 1\n",
    "def rectangle_text(event,x,y,flags,param):\n",
    "    global x1,y1\n",
    "    if event == 1:\n",
    "        x1 = x\n",
    "        y1 = y\n",
    "        \n",
    "    if event == 4:\n",
    "        cv2.rectangle(main_frame,(x1,y1),(x,y),(54,60,59),-1)\n",
    "\n",
    "x1 = -1\n",
    "y1 = 1\n",
    "def line_text(event,x,y,flags,param):\n",
    "    global x1,y1\n",
    "    if event == 1:\n",
    "        x1 = x\n",
    "        y1 = y\n",
    "    if event == 4:\n",
    "         cv2.line(main_frame,(x1,y1),(x,y),(0,0,0),1)\n",
    "\n",
    "\n",
    "x1 = -1\n",
    "y1 = 1\n",
    "\n",
    "def text(event, x, y, flags, param):\n",
    "    if event == cv2.EVENT_RBUTTONDOWN:  # Replace 2 with the appropriate OpenCV constant\n",
    "        cv2.putText(main_frame, \n",
    "                    \"Yes\",  # Text to display\n",
    "                    (765, 370),          # Position on the frame\n",
    "                    cv2.FONT_HERSHEY_COMPLEX,  # Font style\n",
    "                    1.0,                 # Font scale (float value)\n",
    "                    (0,0,0),           # Color (BGR - Black in this case)\n",
    "                    1,                   # Thickness of the text\n",
    "                    cv2.LINE_AA)         # Line type for better quality\n",
    "\n",
    "\n",
    "x1 = -1\n",
    "y1 = 1\n",
    "def boom(event,x,y,flags,param):\n",
    "    if event == 1:\n",
    "        cv2.circle(main_frame,(x,y),5,(54,60,59),-1) \n",
    "    if event == 2:\n",
    "        cv2.circle(main_frame,(x,y),20,(255,255,255),-1) "
   ]
  },
  {
   "cell_type": "code",
   "execution_count": 9,
   "id": "5ac34553-656e-4690-8ac4-cc123a77c22d",
   "metadata": {},
   "outputs": [],
   "source": [
    "cv2.namedWindow(\"Animation_Project\", flags = cv2.WINDOW_FREERATIO)\n",
    "\n",
    "cv2.setMouseCallback(\"Animation_Project\",text)\n",
    "\n",
    "main_frame = cv2.imread(r\"C:\\Users\\laksh\\Downloads\\pics100.jpg\")\n",
    "\n",
    "c = 200\n",
    "while True:\n",
    "\n",
    "    cv2.imshow(\"Animation_Project\", main_frame)\n",
    "\n",
    "    if cv2.waitKey(1) & 255 == ord(\"h\"):\n",
    "        cv2.imwrite(r\"H:\\innomatics\\ML\\Animation Project\\pics{}.jpg\".format(c),main_frame)\n",
    "        print(\"image has been saved\")\n",
    "        c = c + 1\n",
    "\n",
    "    if cv2.waitKey(30) & 255 == ord(\"s\"):\n",
    "        break\n",
    "\n",
    "cv2.destroyAllWindows()"
   ]
  },
  {
   "cell_type": "code",
   "execution_count": 11,
   "id": "95038de4-d4cc-46f7-b30d-713841e53389",
   "metadata": {},
   "outputs": [],
   "source": [
    "for j in range(1,110):\n",
    "        img=cv2.imread(r\"H:\\innomatics\\ML\\Animation Project\\final_pics1\\{}.jpg\".format(j))\n",
    "        cv2.imshow('Video',img)\n",
    "        if cv2.waitKey(200) & 255 == ord('q'):\n",
    "            break\n",
    "\n",
    "        \n",
    "cv2.destroyAllWindows()"
   ]
  },
  {
   "cell_type": "code",
   "execution_count": 33,
   "id": "3aa8425a-3e70-418c-a30e-0d6453c55831",
   "metadata": {},
   "outputs": [],
   "source": [
    "canvas = np.full((700,1000,3),(255,255,255),dtype=np.uint8)\n",
    "\n",
    "for i in range(475):  # Full height of the canvas\n",
    "    # Adjust the blue shades for sky-like effect\n",
    "    color = (255 - i // 7, 230 - i // 7, 150)  # Blue-focused gradient\n",
    "    cv2.line(canvas, (0, i), (1000, i), color, 1)\n",
    "\n",
    "cv2.rectangle(canvas, (0, 640), (1000, 700), (96,187,230), -1) #down grass\n",
    "\n",
    "cv2.rectangle(canvas, (0, 520), (1000, 640), (100, 100, 100), -1)  # road\n",
    "cv2.line(canvas, (0, 527), (1000, 527), (200, 220, 200), 1)  # Top edge line\n",
    "cv2.line(canvas, (0, 633), (1000, 633), (200, 200, 200), 1)  # Bottom edge line\n",
    "cv2.rectangle(canvas, (0, 475), (1000, 520), (96,187,230), -1)  #upgrass\n",
    "cv2.circle(canvas,(0,0),100,(74, 200, 255),-1) \n",
    "cv2.putText(canvas, \"INNOMATICS\", (150, 200), cv2.FONT_HERSHEY_SIMPLEX, 4, (0, 0, 255), 7, cv2.LINE_AA)\n",
    "cv2.putText(canvas, \"RESEARCH LABS\", (250, 300), cv2.FONT_HERSHEY_SIMPLEX, 2, (0, 0, 255), 3, cv2.LINE_AA)\n",
    "cv2.putText(canvas, \"CREATORS\", (825, 508), cv2.FONT_HERSHEY_SIMPLEX, 1, (0, 0, 0), 2, cv2.LINE_AA)\n",
    "cv2.putText(canvas, \"LAKSHMI HARIKA\", (840, 545), cv2.FONT_HERSHEY_PLAIN, 1, (255,255,255), 1, cv2.LINE_AA)\n",
    "cv2.putText(canvas, \"HARI CHANDAN\", (840, 570), cv2.FONT_HERSHEY_PLAIN, 1, (255,255,255), 1, cv2.LINE_AA)\n",
    "cv2.putText(canvas, \"MANOJ KUMAR\", (840, 595), cv2.FONT_HERSHEY_PLAIN, 1, (255,255,255), 1, cv2.LINE_AA)\n",
    "cv2.putText(canvas, \"SHAMITHA\", (840, 620), cv2.FONT_HERSHEY_PLAIN, 1, (255,255,255), 1, cv2.LINE_AA)\n",
    "\n",
    "\n",
    "cv2.namedWindow(\"Animated_img\",flags = cv2.WINDOW_FREERATIO)\n",
    "cv2.imshow(\"Animated_img\",canvas)\n",
    "cv2.waitKey()\n",
    "cv2.destroyAllWindows()"
   ]
  },
  {
   "cell_type": "code",
   "execution_count": 35,
   "id": "dc30bab9-4220-46c7-9f6e-07c52a93e2e2",
   "metadata": {},
   "outputs": [
    {
     "data": {
      "text/plain": [
       "True"
      ]
     },
     "execution_count": 35,
     "metadata": {},
     "output_type": "execute_result"
    }
   ],
   "source": [
    "cv2.imwrite(r\"H:\\innomatics\\ML\\Animation Project\\last_page.jpg\",canvas)"
   ]
  },
  {
   "cell_type": "code",
   "execution_count": 7,
   "id": "c5cf6a32-9793-46e9-84fc-2f224130542e",
   "metadata": {},
   "outputs": [],
   "source": [
    "for images in os.listdir(r\"H:\\innomatics\\ML\\Animation Project\\alt_copy\"):\n",
    "    img = cv2.imread(r\"H:\\innomatics\\ML\\Animation Project\\alt_copy\\{}\".format(images))\n",
    "    cv2.imshow('Video',img)\n",
    "    if cv2.waitKey(200) & 255 == ord('q'):\n",
    "         break\n",
    "\n",
    "        \n",
    "cv2.destroyAllWindows()"
   ]
  },
  {
   "cell_type": "code",
   "execution_count": 5,
   "id": "839ab624-c928-4487-b435-44ba6ac3ab34",
   "metadata": {},
   "outputs": [],
   "source": [
    "for i in range(14,288):\n",
    "    img = cv2.imread(r\"H:\\innomatics\\ML\\Animation Project\\alt_copy\\{}.jpg\".format(i))\n",
    "    cv2.imshow('Video',img)\n",
    "    if cv2.waitKey(200) & 255 == ord('q'):\n",
    "        break\n",
    "\n",
    "        \n",
    "cv2.destroyAllWindows()"
   ]
  },
  {
   "cell_type": "code",
   "execution_count": 13,
   "id": "953f9335-da5d-45b2-b084-31319c94a508",
   "metadata": {},
   "outputs": [],
   "source": [
    "canvas = np.full((700,1000,3),(255,255,255),dtype=np.uint8)\n",
    "\n",
    "for i in range(475):  # Full height of the canvas\n",
    "    # Adjust the blue shades for sky-like effect\n",
    "    color = (255 - i // 7, 230 - i // 7, 150)  # Blue-focused gradient\n",
    "    cv2.line(canvas, (0, i), (1000, i), color, 1)\n",
    "\n",
    "cv2.rectangle(canvas, (0, 640), (1000, 700), (96,187,230), -1) #down grass\n",
    "\n",
    "cv2.rectangle(canvas, (0, 520), (1000, 640), (100, 100, 100), -1)  # road\n",
    "cv2.line(canvas, (0, 527), (1000, 527), (200, 220, 200), 1)  # Top edge line\n",
    "cv2.line(canvas, (0, 633), (1000, 633), (200, 200, 200), 1)  # Bottom edge line\n",
    "cv2.rectangle(canvas, (0, 475), (1000, 520), (96,187,230), -1)  #upgrass\n",
    "cv2.circle(canvas,(0,0),100,(74, 200, 255),-1) \n",
    "cv2.putText(canvas, \"THANK YOU\", (150, 400), cv2.FONT_HERSHEY_SIMPLEX, 4, (0, 0, 255), 7, cv2.LINE_AA)\n",
    "\n",
    "cv2.namedWindow(\"Animated_img\",flags = cv2.WINDOW_FREERATIO)\n",
    "cv2.imshow(\"Animated_img\",canvas)\n",
    "cv2.waitKey()\n",
    "cv2.destroyAllWindows()"
   ]
  },
  {
   "cell_type": "code",
   "execution_count": 31,
   "id": "9232569e-871d-44fb-8e40-4706dcec0be5",
   "metadata": {},
   "outputs": [
    {
     "data": {
      "text/plain": [
       "True"
      ]
     },
     "execution_count": 31,
     "metadata": {},
     "output_type": "execute_result"
    }
   ],
   "source": [
    "cv2.imwrite(r\"H:\\innomatics\\ML\\Animation Project\\last_page1.jpg\",canvas)"
   ]
  },
  {
   "cell_type": "code",
   "execution_count": 17,
   "id": "ea1aade5-704d-4385-a570-9294f3cc3e50",
   "metadata": {},
   "outputs": [],
   "source": [
    "canvas = np.full((700,1000,3),(255,255,255),dtype=np.uint8)\n",
    "\n",
    "for i in range(475):  # Full height of the canvas\n",
    "    # Adjust the blue shades for sky-like effect\n",
    "    color = (255 - i // 7, 230 - i // 7, 150)  # Blue-focused gradient\n",
    "    cv2.line(canvas, (0, i), (1000, i), color, 1)\n",
    "\n",
    "cv2.rectangle(canvas, (0, 640), (1000, 700), (96,187,230), -1) #down grass\n",
    "\n",
    "cv2.rectangle(canvas, (0, 520), (1000, 640), (100, 100, 100), -1)  # road\n",
    "cv2.line(canvas, (0, 527), (1000, 527), (200, 220, 200), 1)  # Top edge line\n",
    "cv2.line(canvas, (0, 633), (1000, 633), (200, 200, 200), 1)  # Bottom edge line\n",
    "cv2.rectangle(canvas, (0, 475), (1000, 520), (96,187,230), -1)  #upgrass\n",
    "cv2.circle(canvas,(0,0),100,(74, 200, 255),-1) \n",
    "cv2.putText(canvas, \"An Honest man is the\", (80, 200), cv2.FONT_HERSHEY_SIMPLEX, 2, (0, 0, 0), 7, cv2.LINE_AA)\n",
    "cv2.putText(canvas, \"Noblest work of God.\", (170, 300), cv2.FONT_HERSHEY_SIMPLEX, 2, (0, 0, 0), 7, cv2.LINE_AA)\n",
    "\n",
    "cv2.namedWindow(\"Animated_img\",flags = cv2.WINDOW_FREERATIO)\n",
    "cv2.imshow(\"Animated_img\",canvas)\n",
    "cv2.waitKey()\n",
    "cv2.destroyAllWindows()"
   ]
  },
  {
   "cell_type": "code",
   "execution_count": 49,
   "id": "4eb4e29f-369f-4e09-90da-e2124d7a5a7c",
   "metadata": {},
   "outputs": [
    {
     "data": {
      "text/plain": [
       "True"
      ]
     },
     "execution_count": 49,
     "metadata": {},
     "output_type": "execute_result"
    }
   ],
   "source": [
    "cv2.imwrite(r\"H:\\innomatics\\ML\\Animation Project\\last_page2.jpg\",canvas)"
   ]
  },
  {
   "cell_type": "code",
   "execution_count": 15,
   "id": "a072b0ea-8e32-498f-8048-3a4543556c31",
   "metadata": {},
   "outputs": [
    {
     "name": "stdout",
     "output_type": "stream",
     "text": [
      "Full-frame video saved successfully at H:\\innomatics\\ML\\Animation Project\\full_frame_video.avi\n"
     ]
    }
   ],
   "source": [
    "# Specify the folder containing the images\n",
    "image_folder = r\"H:\\innomatics\\ML\\Animation Project\\alt_copy\"\n",
    "output_video = r\"H:\\innomatics\\ML\\Animation Project\\full_frame_video.avi\"\n",
    "\n",
    "# Get the list of image filenames\n",
    "images = [f\"{i}.jpg\" for i in range(14, 301)]\n",
    "\n",
    "# Read the first image to get the frame size\n",
    "first_image_path = os.path.join(image_folder, images[0])\n",
    "first_image = cv2.imread(first_image_path)\n",
    "\n",
    "if first_image is None:\n",
    "    print(\"Error: First image could not be loaded. Check the path.\")\n",
    "    exit()\n",
    "\n",
    "# Get frame size\n",
    "height, width, layers = first_image.shape\n",
    "frame_size = (width, height)\n",
    "\n",
    "# Define the codec and create the VideoWriter object\n",
    "fourcc = cv2.VideoWriter_fourcc(*'XVID') \n",
    "fps = 5  # Frames per second\n",
    "out = cv2.VideoWriter(output_video, fourcc, fps, frame_size)\n",
    "\n",
    "# Loop through images and write to video\n",
    "for image_name in images:\n",
    "    image_path = os.path.join(image_folder, image_name)\n",
    "    frame = cv2.imread(image_path)\n",
    "    if frame is None:\n",
    "        print(f\"Skipping missing frame: {image_path}\")\n",
    "        continue\n",
    "\n",
    "    # Write the full-size frame to the video\n",
    "    out.write(frame)\n",
    "\n",
    "# Release the video writer\n",
    "out.release()\n",
    "print(f\"Full-frame video saved successfully at {output_video}\")\n"
   ]
  },
  {
   "cell_type": "code",
   "execution_count": null,
   "id": "15d0f34b-a41d-4679-9ffc-81b6901a009a",
   "metadata": {},
   "outputs": [],
   "source": []
  }
 ],
 "metadata": {
  "kernelspec": {
   "display_name": "Python 3 (ipykernel)",
   "language": "python",
   "name": "python3"
  },
  "language_info": {
   "codemirror_mode": {
    "name": "ipython",
    "version": 3
   },
   "file_extension": ".py",
   "mimetype": "text/x-python",
   "name": "python",
   "nbconvert_exporter": "python",
   "pygments_lexer": "ipython3",
   "version": "3.12.7"
  }
 },
 "nbformat": 4,
 "nbformat_minor": 5
}
